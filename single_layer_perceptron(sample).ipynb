{
 "cells": [
  {
   "cell_type": "code",
   "execution_count": 1,
   "id": "9567984d",
   "metadata": {},
   "outputs": [],
   "source": [
    "import numpy as np\n",
    "from sklearn.datasets import load_breast_cancer\n",
    "from sklearn.model_selection import train_test_split as tts\n",
    "from tensorflow import keras\n",
    "from tensorflow.keras import layers"
   ]
  },
  {
   "cell_type": "code",
   "execution_count": 2,
   "id": "e3d01098",
   "metadata": {},
   "outputs": [],
   "source": [
    "df=load_breast_cancer()"
   ]
  },
  {
   "cell_type": "code",
   "execution_count": 10,
   "id": "b36aa082",
   "metadata": {},
   "outputs": [],
   "source": [
    "#df"
   ]
  },
  {
   "cell_type": "code",
   "execution_count": 14,
   "id": "6d4a6f09",
   "metadata": {},
   "outputs": [],
   "source": [
    "X,y=df.data,df.target"
   ]
  },
  {
   "cell_type": "code",
   "execution_count": 35,
   "id": "496b56ec",
   "metadata": {},
   "outputs": [
    {
     "name": "stdout",
     "output_type": "stream",
     "text": [
      "x var shape (569, 30)\n",
      "y var shape (569,)\n"
     ]
    }
   ],
   "source": [
    "print(\"x var shape\",df.data.shape)\n",
    "print(\"y var shape\",df.target.shape)"
   ]
  },
  {
   "cell_type": "code",
   "execution_count": 41,
   "id": "eb1a7b6a",
   "metadata": {},
   "outputs": [
    {
     "data": {
      "text/plain": [
       "array([1.799e+01, 1.038e+01, 1.228e+02, 1.001e+03, 1.184e-01, 2.776e-01,\n",
       "       3.001e-01, 1.471e-01, 2.419e-01, 7.871e-02, 1.095e+00, 9.053e-01,\n",
       "       8.589e+00, 1.534e+02, 6.399e-03, 4.904e-02, 5.373e-02, 1.587e-02,\n",
       "       3.003e-02, 6.193e-03, 2.538e+01, 1.733e+01, 1.846e+02, 2.019e+03,\n",
       "       1.622e-01, 6.656e-01, 7.119e-01, 2.654e-01, 4.601e-01, 1.189e-01])"
      ]
     },
     "execution_count": 41,
     "metadata": {},
     "output_type": "execute_result"
    }
   ],
   "source": [
    "X[0]"
   ]
  },
  {
   "cell_type": "code",
   "execution_count": 15,
   "id": "fac36a72",
   "metadata": {},
   "outputs": [
    {
     "data": {
      "text/plain": [
       "array([[1.799e+01, 1.038e+01, 1.228e+02, ..., 2.654e-01, 4.601e-01,\n",
       "        1.189e-01],\n",
       "       [2.057e+01, 1.777e+01, 1.329e+02, ..., 1.860e-01, 2.750e-01,\n",
       "        8.902e-02],\n",
       "       [1.969e+01, 2.125e+01, 1.300e+02, ..., 2.430e-01, 3.613e-01,\n",
       "        8.758e-02],\n",
       "       ...,\n",
       "       [1.660e+01, 2.808e+01, 1.083e+02, ..., 1.418e-01, 2.218e-01,\n",
       "        7.820e-02],\n",
       "       [2.060e+01, 2.933e+01, 1.401e+02, ..., 2.650e-01, 4.087e-01,\n",
       "        1.240e-01],\n",
       "       [7.760e+00, 2.454e+01, 4.792e+01, ..., 0.000e+00, 2.871e-01,\n",
       "        7.039e-02]])"
      ]
     },
     "execution_count": 15,
     "metadata": {},
     "output_type": "execute_result"
    }
   ],
   "source": [
    "X"
   ]
  },
  {
   "cell_type": "code",
   "execution_count": 16,
   "id": "4c2afa55",
   "metadata": {},
   "outputs": [
    {
     "data": {
      "text/plain": [
       "array([0, 0, 0, 0, 0, 0, 0, 0, 0, 0, 0, 0, 0, 0, 0, 0, 0, 0, 0, 1, 1, 1,\n",
       "       0, 0, 0, 0, 0, 0, 0, 0, 0, 0, 0, 0, 0, 0, 0, 1, 0, 0, 0, 0, 0, 0,\n",
       "       0, 0, 1, 0, 1, 1, 1, 1, 1, 0, 0, 1, 0, 0, 1, 1, 1, 1, 0, 1, 0, 0,\n",
       "       1, 1, 1, 1, 0, 1, 0, 0, 1, 0, 1, 0, 0, 1, 1, 1, 0, 0, 1, 0, 0, 0,\n",
       "       1, 1, 1, 0, 1, 1, 0, 0, 1, 1, 1, 0, 0, 1, 1, 1, 1, 0, 1, 1, 0, 1,\n",
       "       1, 1, 1, 1, 1, 1, 1, 0, 0, 0, 1, 0, 0, 1, 1, 1, 0, 0, 1, 0, 1, 0,\n",
       "       0, 1, 0, 0, 1, 1, 0, 1, 1, 0, 1, 1, 1, 1, 0, 1, 1, 1, 1, 1, 1, 1,\n",
       "       1, 1, 0, 1, 1, 1, 1, 0, 0, 1, 0, 1, 1, 0, 0, 1, 1, 0, 0, 1, 1, 1,\n",
       "       1, 0, 1, 1, 0, 0, 0, 1, 0, 1, 0, 1, 1, 1, 0, 1, 1, 0, 0, 1, 0, 0,\n",
       "       0, 0, 1, 0, 0, 0, 1, 0, 1, 0, 1, 1, 0, 1, 0, 0, 0, 0, 1, 1, 0, 0,\n",
       "       1, 1, 1, 0, 1, 1, 1, 1, 1, 0, 0, 1, 1, 0, 1, 1, 0, 0, 1, 0, 1, 1,\n",
       "       1, 1, 0, 1, 1, 1, 1, 1, 0, 1, 0, 0, 0, 0, 0, 0, 0, 0, 0, 0, 0, 0,\n",
       "       0, 0, 1, 1, 1, 1, 1, 1, 0, 1, 0, 1, 1, 0, 1, 1, 0, 1, 0, 0, 1, 1,\n",
       "       1, 1, 1, 1, 1, 1, 1, 1, 1, 1, 1, 0, 1, 1, 0, 1, 0, 1, 1, 1, 1, 1,\n",
       "       1, 1, 1, 1, 1, 1, 1, 1, 1, 0, 1, 1, 1, 0, 1, 0, 1, 1, 1, 1, 0, 0,\n",
       "       0, 1, 1, 1, 1, 0, 1, 0, 1, 0, 1, 1, 1, 0, 1, 1, 1, 1, 1, 1, 1, 0,\n",
       "       0, 0, 1, 1, 1, 1, 1, 1, 1, 1, 1, 1, 1, 0, 0, 1, 0, 0, 0, 1, 0, 0,\n",
       "       1, 1, 1, 1, 1, 0, 1, 1, 1, 1, 1, 0, 1, 1, 1, 0, 1, 1, 0, 0, 1, 1,\n",
       "       1, 1, 1, 1, 0, 1, 1, 1, 1, 1, 1, 1, 0, 1, 1, 1, 1, 1, 0, 1, 1, 0,\n",
       "       1, 1, 1, 1, 1, 1, 1, 1, 1, 1, 1, 1, 0, 1, 0, 0, 1, 0, 1, 1, 1, 1,\n",
       "       1, 0, 1, 1, 0, 1, 0, 1, 1, 0, 1, 0, 1, 1, 1, 1, 1, 1, 1, 1, 0, 0,\n",
       "       1, 1, 1, 1, 1, 1, 0, 1, 1, 1, 1, 1, 1, 1, 1, 1, 1, 0, 1, 1, 1, 1,\n",
       "       1, 1, 1, 0, 1, 0, 1, 1, 0, 1, 1, 1, 1, 1, 0, 0, 1, 0, 1, 0, 1, 1,\n",
       "       1, 1, 1, 0, 1, 1, 0, 1, 0, 1, 0, 0, 1, 1, 1, 0, 1, 1, 1, 1, 1, 1,\n",
       "       1, 1, 1, 1, 1, 0, 1, 0, 0, 1, 1, 1, 1, 1, 1, 1, 1, 1, 1, 1, 1, 1,\n",
       "       1, 1, 1, 1, 1, 1, 1, 1, 1, 1, 1, 1, 0, 0, 0, 0, 0, 0, 1])"
      ]
     },
     "execution_count": 16,
     "metadata": {},
     "output_type": "execute_result"
    }
   ],
   "source": [
    "y"
   ]
  },
  {
   "cell_type": "code",
   "execution_count": 17,
   "id": "ed191799",
   "metadata": {},
   "outputs": [],
   "source": [
    "X_train, X_test, y_train, y_test = tts(X, y, test_size=0.2, random_state=42)"
   ]
  },
  {
   "cell_type": "code",
   "execution_count": 21,
   "id": "54dd7946",
   "metadata": {},
   "outputs": [
    {
     "data": {
      "text/plain": [
       "30"
      ]
     },
     "execution_count": 21,
     "metadata": {},
     "output_type": "execute_result"
    }
   ],
   "source": [
    "X_train.shape[1]"
   ]
  },
  {
   "cell_type": "code",
   "execution_count": 23,
   "id": "9b3155ff",
   "metadata": {},
   "outputs": [],
   "source": [
    "#creating a sinle layer perceptron\n",
    "model=keras.Sequential([layers.Input(shape=(30,)),\n",
    "                        layers.Dense(1,activation=\"sigmoid\")\n",
    "                       ])"
   ]
  },
  {
   "cell_type": "code",
   "execution_count": 24,
   "id": "bf51cb25",
   "metadata": {},
   "outputs": [],
   "source": [
    "model.compile(optimizer=\"sgd\",loss=\"binary_crossentropy\",metrics=[\"accuracy\"])"
   ]
  },
  {
   "cell_type": "code",
   "execution_count": 28,
   "id": "8c44e761",
   "metadata": {},
   "outputs": [
    {
     "name": "stdout",
     "output_type": "stream",
     "text": [
      "Epoch 1/100\n",
      "15/15 - 0s - loss: 89.8566 - accuracy: 0.8681 - 42ms/epoch - 3ms/step\n",
      "Epoch 2/100\n",
      "15/15 - 0s - loss: 107.4217 - accuracy: 0.8637 - 33ms/epoch - 2ms/step\n",
      "Epoch 3/100\n",
      "15/15 - 0s - loss: 98.3569 - accuracy: 0.8769 - 30ms/epoch - 2ms/step\n",
      "Epoch 4/100\n",
      "15/15 - 0s - loss: 80.6651 - accuracy: 0.8703 - 36ms/epoch - 2ms/step\n",
      "Epoch 5/100\n",
      "15/15 - 0s - loss: 96.1347 - accuracy: 0.8637 - 37ms/epoch - 2ms/step\n",
      "Epoch 6/100\n",
      "15/15 - 0s - loss: 61.3590 - accuracy: 0.8813 - 22ms/epoch - 1ms/step\n",
      "Epoch 7/100\n",
      "15/15 - 0s - loss: 107.1736 - accuracy: 0.8615 - 36ms/epoch - 2ms/step\n",
      "Epoch 8/100\n",
      "15/15 - 0s - loss: 96.1748 - accuracy: 0.8681 - 34ms/epoch - 2ms/step\n",
      "Epoch 9/100\n",
      "15/15 - 0s - loss: 138.4762 - accuracy: 0.8484 - 33ms/epoch - 2ms/step\n",
      "Epoch 10/100\n",
      "15/15 - 0s - loss: 204.5237 - accuracy: 0.8022 - 25ms/epoch - 2ms/step\n",
      "Epoch 11/100\n",
      "15/15 - 0s - loss: 126.1583 - accuracy: 0.8527 - 35ms/epoch - 2ms/step\n",
      "Epoch 12/100\n",
      "15/15 - 0s - loss: 92.6389 - accuracy: 0.8725 - 34ms/epoch - 2ms/step\n",
      "Epoch 13/100\n",
      "15/15 - 0s - loss: 73.1231 - accuracy: 0.8879 - 34ms/epoch - 2ms/step\n",
      "Epoch 14/100\n",
      "15/15 - 0s - loss: 93.3008 - accuracy: 0.8747 - 27ms/epoch - 2ms/step\n",
      "Epoch 15/100\n",
      "15/15 - 0s - loss: 81.0408 - accuracy: 0.8901 - 36ms/epoch - 2ms/step\n",
      "Epoch 16/100\n",
      "15/15 - 0s - loss: 92.3438 - accuracy: 0.8835 - 35ms/epoch - 2ms/step\n",
      "Epoch 17/100\n",
      "15/15 - 0s - loss: 75.1297 - accuracy: 0.8857 - 28ms/epoch - 2ms/step\n",
      "Epoch 18/100\n",
      "15/15 - 0s - loss: 72.6698 - accuracy: 0.8923 - 46ms/epoch - 3ms/step\n",
      "Epoch 19/100\n",
      "15/15 - 0s - loss: 48.8724 - accuracy: 0.9033 - 32ms/epoch - 2ms/step\n",
      "Epoch 20/100\n",
      "15/15 - 0s - loss: 293.0296 - accuracy: 0.8418 - 32ms/epoch - 2ms/step\n",
      "Epoch 21/100\n",
      "15/15 - 0s - loss: 110.2887 - accuracy: 0.8440 - 34ms/epoch - 2ms/step\n",
      "Epoch 22/100\n",
      "15/15 - 0s - loss: 76.4612 - accuracy: 0.8791 - 28ms/epoch - 2ms/step\n",
      "Epoch 23/100\n",
      "15/15 - 0s - loss: 92.6075 - accuracy: 0.8659 - 35ms/epoch - 2ms/step\n",
      "Epoch 24/100\n",
      "15/15 - 0s - loss: 74.9603 - accuracy: 0.8989 - 32ms/epoch - 2ms/step\n",
      "Epoch 25/100\n",
      "15/15 - 0s - loss: 68.0469 - accuracy: 0.8791 - 37ms/epoch - 2ms/step\n",
      "Epoch 26/100\n",
      "15/15 - 0s - loss: 56.7358 - accuracy: 0.9099 - 26ms/epoch - 2ms/step\n",
      "Epoch 27/100\n",
      "15/15 - 0s - loss: 90.4951 - accuracy: 0.8769 - 35ms/epoch - 2ms/step\n",
      "Epoch 28/100\n",
      "15/15 - 0s - loss: 306.9782 - accuracy: 0.7363 - 30ms/epoch - 2ms/step\n",
      "Epoch 29/100\n",
      "15/15 - 0s - loss: 87.0914 - accuracy: 0.8527 - 40ms/epoch - 3ms/step\n",
      "Epoch 30/100\n",
      "15/15 - 0s - loss: 98.6744 - accuracy: 0.8791 - 29ms/epoch - 2ms/step\n",
      "Epoch 31/100\n",
      "15/15 - 0s - loss: 94.0761 - accuracy: 0.8571 - 38ms/epoch - 3ms/step\n",
      "Epoch 32/100\n",
      "15/15 - 0s - loss: 80.2613 - accuracy: 0.8901 - 41ms/epoch - 3ms/step\n",
      "Epoch 33/100\n",
      "15/15 - 0s - loss: 95.4001 - accuracy: 0.8923 - 31ms/epoch - 2ms/step\n",
      "Epoch 34/100\n",
      "15/15 - 0s - loss: 48.7328 - accuracy: 0.9011 - 29ms/epoch - 2ms/step\n",
      "Epoch 35/100\n",
      "15/15 - 0s - loss: 150.6348 - accuracy: 0.8396 - 29ms/epoch - 2ms/step\n",
      "Epoch 36/100\n",
      "15/15 - 0s - loss: 112.8228 - accuracy: 0.8462 - 29ms/epoch - 2ms/step\n",
      "Epoch 37/100\n",
      "15/15 - 0s - loss: 96.3701 - accuracy: 0.8462 - 32ms/epoch - 2ms/step\n",
      "Epoch 38/100\n",
      "15/15 - 0s - loss: 72.6308 - accuracy: 0.8813 - 32ms/epoch - 2ms/step\n",
      "Epoch 39/100\n",
      "15/15 - 0s - loss: 83.2822 - accuracy: 0.8879 - 29ms/epoch - 2ms/step\n",
      "Epoch 40/100\n",
      "15/15 - 0s - loss: 73.5634 - accuracy: 0.8791 - 29ms/epoch - 2ms/step\n",
      "Epoch 41/100\n",
      "15/15 - 0s - loss: 99.5506 - accuracy: 0.8593 - 33ms/epoch - 2ms/step\n",
      "Epoch 42/100\n",
      "15/15 - 0s - loss: 80.1960 - accuracy: 0.8945 - 34ms/epoch - 2ms/step\n",
      "Epoch 43/100\n",
      "15/15 - 0s - loss: 48.3168 - accuracy: 0.9033 - 29ms/epoch - 2ms/step\n",
      "Epoch 44/100\n",
      "15/15 - 0s - loss: 97.5248 - accuracy: 0.8725 - 30ms/epoch - 2ms/step\n",
      "Epoch 45/100\n",
      "15/15 - 0s - loss: 147.9108 - accuracy: 0.8264 - 47ms/epoch - 3ms/step\n",
      "Epoch 46/100\n",
      "15/15 - 0s - loss: 65.9185 - accuracy: 0.8945 - 29ms/epoch - 2ms/step\n",
      "Epoch 47/100\n",
      "15/15 - 0s - loss: 63.0697 - accuracy: 0.8747 - 29ms/epoch - 2ms/step\n",
      "Epoch 48/100\n",
      "15/15 - 0s - loss: 107.7476 - accuracy: 0.8505 - 21ms/epoch - 1ms/step\n",
      "Epoch 49/100\n",
      "15/15 - 0s - loss: 67.6135 - accuracy: 0.8857 - 35ms/epoch - 2ms/step\n",
      "Epoch 50/100\n",
      "15/15 - 0s - loss: 91.7850 - accuracy: 0.8615 - 30ms/epoch - 2ms/step\n",
      "Epoch 51/100\n",
      "15/15 - 0s - loss: 88.1649 - accuracy: 0.8813 - 29ms/epoch - 2ms/step\n",
      "Epoch 52/100\n",
      "15/15 - 0s - loss: 172.8122 - accuracy: 0.8198 - 31ms/epoch - 2ms/step\n",
      "Epoch 53/100\n",
      "15/15 - 0s - loss: 52.1992 - accuracy: 0.9055 - 27ms/epoch - 2ms/step\n",
      "Epoch 54/100\n",
      "15/15 - 0s - loss: 48.8498 - accuracy: 0.9055 - 34ms/epoch - 2ms/step\n",
      "Epoch 55/100\n",
      "15/15 - 0s - loss: 74.7919 - accuracy: 0.8659 - 39ms/epoch - 3ms/step\n",
      "Epoch 56/100\n",
      "15/15 - 0s - loss: 79.4486 - accuracy: 0.8769 - 27ms/epoch - 2ms/step\n",
      "Epoch 57/100\n",
      "15/15 - 0s - loss: 149.1663 - accuracy: 0.8088 - 37ms/epoch - 2ms/step\n",
      "Epoch 58/100\n",
      "15/15 - 0s - loss: 74.9398 - accuracy: 0.8703 - 31ms/epoch - 2ms/step\n",
      "Epoch 59/100\n",
      "15/15 - 0s - loss: 69.8888 - accuracy: 0.8813 - 29ms/epoch - 2ms/step\n",
      "Epoch 60/100\n",
      "15/15 - 0s - loss: 87.1545 - accuracy: 0.8791 - 48ms/epoch - 3ms/step\n",
      "Epoch 61/100\n",
      "15/15 - 0s - loss: 126.1198 - accuracy: 0.8593 - 36ms/epoch - 2ms/step\n",
      "Epoch 62/100\n",
      "15/15 - 0s - loss: 87.0673 - accuracy: 0.8835 - 29ms/epoch - 2ms/step\n",
      "Epoch 63/100\n",
      "15/15 - 0s - loss: 103.0594 - accuracy: 0.8637 - 32ms/epoch - 2ms/step\n",
      "Epoch 64/100\n",
      "15/15 - 0s - loss: 89.8150 - accuracy: 0.8725 - 34ms/epoch - 2ms/step\n",
      "Epoch 65/100\n",
      "15/15 - 0s - loss: 49.6079 - accuracy: 0.8989 - 39ms/epoch - 3ms/step\n",
      "Epoch 66/100\n",
      "15/15 - 0s - loss: 76.3707 - accuracy: 0.8835 - 22ms/epoch - 1ms/step\n",
      "Epoch 67/100\n",
      "15/15 - 0s - loss: 55.9562 - accuracy: 0.9055 - 30ms/epoch - 2ms/step\n",
      "Epoch 68/100\n",
      "15/15 - 0s - loss: 235.5592 - accuracy: 0.7890 - 30ms/epoch - 2ms/step\n",
      "Epoch 69/100\n",
      "15/15 - 0s - loss: 143.7498 - accuracy: 0.8505 - 32ms/epoch - 2ms/step\n",
      "Epoch 70/100\n",
      "15/15 - 0s - loss: 120.7536 - accuracy: 0.8593 - 49ms/epoch - 3ms/step\n",
      "Epoch 71/100\n",
      "15/15 - 0s - loss: 62.8250 - accuracy: 0.8857 - 56ms/epoch - 4ms/step\n",
      "Epoch 72/100\n",
      "15/15 - 0s - loss: 115.7449 - accuracy: 0.8484 - 22ms/epoch - 1ms/step\n",
      "Epoch 73/100\n",
      "15/15 - 0s - loss: 108.4618 - accuracy: 0.8527 - 34ms/epoch - 2ms/step\n",
      "Epoch 74/100\n",
      "15/15 - 0s - loss: 56.8600 - accuracy: 0.8989 - 35ms/epoch - 2ms/step\n",
      "Epoch 75/100\n",
      "15/15 - 0s - loss: 80.9264 - accuracy: 0.8857 - 22ms/epoch - 1ms/step\n",
      "Epoch 76/100\n",
      "15/15 - 0s - loss: 144.1320 - accuracy: 0.8330 - 34ms/epoch - 2ms/step\n",
      "Epoch 77/100\n",
      "15/15 - 0s - loss: 120.2629 - accuracy: 0.8462 - 32ms/epoch - 2ms/step\n",
      "Epoch 78/100\n",
      "15/15 - 0s - loss: 410.0466 - accuracy: 0.8264 - 32ms/epoch - 2ms/step\n",
      "Epoch 79/100\n",
      "15/15 - 0s - loss: 59.8788 - accuracy: 0.8945 - 32ms/epoch - 2ms/step\n",
      "Epoch 80/100\n",
      "15/15 - 0s - loss: 114.5610 - accuracy: 0.8747 - 30ms/epoch - 2ms/step\n",
      "Epoch 81/100\n",
      "15/15 - 0s - loss: 71.0723 - accuracy: 0.8857 - 29ms/epoch - 2ms/step\n",
      "Epoch 82/100\n",
      "15/15 - 0s - loss: 81.9743 - accuracy: 0.8659 - 35ms/epoch - 2ms/step\n",
      "Epoch 83/100\n",
      "15/15 - 0s - loss: 75.7989 - accuracy: 0.8791 - 45ms/epoch - 3ms/step\n",
      "Epoch 84/100\n",
      "15/15 - 0s - loss: 72.4699 - accuracy: 0.8879 - 86ms/epoch - 6ms/step\n",
      "Epoch 85/100\n",
      "15/15 - 0s - loss: 88.4298 - accuracy: 0.8769 - 28ms/epoch - 2ms/step\n",
      "Epoch 86/100\n",
      "15/15 - 0s - loss: 157.2815 - accuracy: 0.8505 - 24ms/epoch - 2ms/step\n",
      "Epoch 87/100\n",
      "15/15 - 0s - loss: 53.8131 - accuracy: 0.9121 - 97ms/epoch - 6ms/step\n",
      "Epoch 88/100\n",
      "15/15 - 0s - loss: 53.5493 - accuracy: 0.8967 - 11ms/epoch - 741us/step\n",
      "Epoch 89/100\n",
      "15/15 - 0s - loss: 106.6134 - accuracy: 0.8571 - 16ms/epoch - 1ms/step\n",
      "Epoch 90/100\n",
      "15/15 - 0s - loss: 69.2189 - accuracy: 0.8967 - 34ms/epoch - 2ms/step\n",
      "Epoch 91/100\n",
      "15/15 - 0s - loss: 77.5461 - accuracy: 0.8879 - 28ms/epoch - 2ms/step\n",
      "Epoch 92/100\n",
      "15/15 - 0s - loss: 65.6334 - accuracy: 0.8879 - 16ms/epoch - 1ms/step\n",
      "Epoch 93/100\n",
      "15/15 - 0s - loss: 57.9392 - accuracy: 0.9033 - 32ms/epoch - 2ms/step\n",
      "Epoch 94/100\n",
      "15/15 - 0s - loss: 85.9491 - accuracy: 0.8813 - 24ms/epoch - 2ms/step\n",
      "Epoch 95/100\n",
      "15/15 - 0s - loss: 60.5113 - accuracy: 0.9055 - 17ms/epoch - 1ms/step\n",
      "Epoch 96/100\n",
      "15/15 - 0s - loss: 59.2529 - accuracy: 0.9011 - 33ms/epoch - 2ms/step\n",
      "Epoch 97/100\n",
      "15/15 - 0s - loss: 62.7014 - accuracy: 0.8901 - 32ms/epoch - 2ms/step\n",
      "Epoch 98/100\n",
      "15/15 - 0s - loss: 85.1347 - accuracy: 0.8703 - 29ms/epoch - 2ms/step\n",
      "Epoch 99/100\n",
      "15/15 - 0s - loss: 46.9011 - accuracy: 0.8923 - 30ms/epoch - 2ms/step\n"
     ]
    },
    {
     "name": "stdout",
     "output_type": "stream",
     "text": [
      "Epoch 100/100\n",
      "15/15 - 0s - loss: 200.6810 - accuracy: 0.7846 - 36ms/epoch - 2ms/step\n"
     ]
    },
    {
     "data": {
      "text/plain": [
       "<keras.callbacks.History at 0x1dfb5d79970>"
      ]
     },
     "execution_count": 28,
     "metadata": {},
     "output_type": "execute_result"
    }
   ],
   "source": [
    "#model fitting\n",
    "model.fit(X_train,y_train,epochs=100,batch_size=32, verbose=2)"
   ]
  },
  {
   "cell_type": "code",
   "execution_count": 39,
   "id": "6ca5d7bf",
   "metadata": {},
   "outputs": [
    {
     "name": "stdout",
     "output_type": "stream",
     "text": [
      "4/4 [==============================] - 0s 4ms/step - loss: 6.4270 - accuracy: 0.9561\n",
      "Test Loss: 6.42703104019165\n",
      "Test Accuracy: 0.9561403393745422\n"
     ]
    }
   ],
   "source": [
    "#evaluation\n",
    "model.evaluate(X_test, y_test)\n",
    "print(\"Test Loss:\", loss)\n",
    "print(\"Test Accuracy:\", accuracy)"
   ]
  }
 ],
 "metadata": {
  "kernelspec": {
   "display_name": "Python 3 (ipykernel)",
   "language": "python",
   "name": "python3"
  },
  "language_info": {
   "codemirror_mode": {
    "name": "ipython",
    "version": 3
   },
   "file_extension": ".py",
   "mimetype": "text/x-python",
   "name": "python",
   "nbconvert_exporter": "python",
   "pygments_lexer": "ipython3",
   "version": "3.9.7"
  }
 },
 "nbformat": 4,
 "nbformat_minor": 5
}
